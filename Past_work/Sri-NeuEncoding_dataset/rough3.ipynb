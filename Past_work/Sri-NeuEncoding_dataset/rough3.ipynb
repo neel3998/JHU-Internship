{
 "metadata": {
  "language_info": {
   "codemirror_mode": {
    "name": "ipython",
    "version": 3
   },
   "file_extension": ".py",
   "mimetype": "text/x-python",
   "name": "python",
   "nbconvert_exporter": "python",
   "pygments_lexer": "ipython3",
   "version": "3.8.3"
  },
  "orig_nbformat": 4,
  "kernelspec": {
   "name": "python3",
   "display_name": "Python 3.8.3 64-bit ('Rwik1234': conda)"
  },
  "interpreter": {
   "hash": "18c1725772877ae71f911b07fa0a0bde2e626f5cb374d4a340e10f9cff87f69b"
  }
 },
 "nbformat": 4,
 "nbformat_minor": 2,
 "cells": [
  {
   "cell_type": "code",
   "execution_count": 4,
   "metadata": {},
   "outputs": [],
   "source": [
    "import pandas as pd\n",
    "import numpy as np"
   ]
  },
  {
   "cell_type": "code",
   "execution_count": 5,
   "metadata": {},
   "outputs": [
    {
     "output_type": "execute_result",
     "data": {
      "text/plain": [
       "   Unnamed: 0       v_0       v_1       v_2       v_3       v_4       v_5  \\\n",
       "0           0  2.441323  2.444771  2.445271  2.444908  2.442032  2.429262   \n",
       "1           1  2.441267  2.444747  2.445223  2.444780  2.441968  2.428844   \n",
       "2           2  2.441235  2.444651  2.445190  2.444618  2.441919  2.428489   \n",
       "3           3  2.441202  2.444530  2.445126  2.444465  2.441887  2.428159   \n",
       "4           4  2.441154  2.444377  2.444715  2.444167  2.441879  2.427804   \n",
       "5           5  2.441146  2.444320  2.444264  2.443917  2.441847  2.427474   \n",
       "6           6  2.441098  2.444199  2.443781  2.443595  2.441815  2.427144   \n",
       "7           7  2.441065  2.444054  2.443273  2.443329  2.441782  2.426813   \n",
       "8           8  2.441009  2.443926  2.442661  2.443007  2.441686  2.426467   \n",
       "9           9  2.440912  2.443764  2.442040  2.442725  2.441646  2.426112   \n",
       "\n",
       "        v_6       v_7       v_8       v_9      v_10      v_11      v_12  \\\n",
       "0  2.418031  2.410192  2.438874  2.424976  2.434209  2.409226  2.441090   \n",
       "1  2.417451  2.409701  2.438906  2.425041  2.434209  2.409274  2.441106   \n",
       "2  2.417032  2.409266  2.438922  2.425105  2.434193  2.409314  2.441065   \n",
       "3  2.416887  2.409073  2.438938  2.425186  2.434225  2.409371  2.441033   \n",
       "4  2.416759  2.408815  2.438955  2.425250  2.434225  2.409451  2.441049   \n",
       "5  2.416630  2.408525  2.438971  2.425315  2.434225  2.409516  2.441033   \n",
       "6  2.416517  2.408267  2.438947  2.425379  2.434225  2.409580  2.441049   \n",
       "7  2.416404  2.408009  2.438963  2.425444  2.434225  2.409645  2.441025   \n",
       "8  2.416283  2.407751  2.438979  2.425508  2.434258  2.409709  2.441009   \n",
       "9  2.416154  2.407534  2.438995  2.425573  2.434258  2.409773  2.440969   \n",
       "\n",
       "       v_13      v_14      v_15    Class  Pass_No  iter_No  \n",
       "0  2.438640  2.440920  2.397809  3_Bumps        0        1  \n",
       "1  2.438705  2.440953  2.398776  3_Bumps        0        1  \n",
       "2  2.438769  2.440985  2.399743  3_Bumps        0        1  \n",
       "3  2.438834  2.441017  2.400677  3_Bumps        0        1  \n",
       "4  2.438898  2.441049  2.401580  3_Bumps        0        1  \n",
       "5  2.438963  2.441082  2.402426  3_Bumps        0        1  \n",
       "6  2.439027  2.441114  2.403360  3_Bumps        0        1  \n",
       "7  2.439092  2.441146  2.404295  3_Bumps        0        1  \n",
       "8  2.439156  2.441178  2.405165  3_Bumps        0        1  \n",
       "9  2.439220  2.441210  2.406116  3_Bumps        0        1  "
      ],
      "text/html": "<div>\n<style scoped>\n    .dataframe tbody tr th:only-of-type {\n        vertical-align: middle;\n    }\n\n    .dataframe tbody tr th {\n        vertical-align: top;\n    }\n\n    .dataframe thead th {\n        text-align: right;\n    }\n</style>\n<table border=\"1\" class=\"dataframe\">\n  <thead>\n    <tr style=\"text-align: right;\">\n      <th></th>\n      <th>Unnamed: 0</th>\n      <th>v_0</th>\n      <th>v_1</th>\n      <th>v_2</th>\n      <th>v_3</th>\n      <th>v_4</th>\n      <th>v_5</th>\n      <th>v_6</th>\n      <th>v_7</th>\n      <th>v_8</th>\n      <th>v_9</th>\n      <th>v_10</th>\n      <th>v_11</th>\n      <th>v_12</th>\n      <th>v_13</th>\n      <th>v_14</th>\n      <th>v_15</th>\n      <th>Class</th>\n      <th>Pass_No</th>\n      <th>iter_No</th>\n    </tr>\n  </thead>\n  <tbody>\n    <tr>\n      <th>0</th>\n      <td>0</td>\n      <td>2.441323</td>\n      <td>2.444771</td>\n      <td>2.445271</td>\n      <td>2.444908</td>\n      <td>2.442032</td>\n      <td>2.429262</td>\n      <td>2.418031</td>\n      <td>2.410192</td>\n      <td>2.438874</td>\n      <td>2.424976</td>\n      <td>2.434209</td>\n      <td>2.409226</td>\n      <td>2.441090</td>\n      <td>2.438640</td>\n      <td>2.440920</td>\n      <td>2.397809</td>\n      <td>3_Bumps</td>\n      <td>0</td>\n      <td>1</td>\n    </tr>\n    <tr>\n      <th>1</th>\n      <td>1</td>\n      <td>2.441267</td>\n      <td>2.444747</td>\n      <td>2.445223</td>\n      <td>2.444780</td>\n      <td>2.441968</td>\n      <td>2.428844</td>\n      <td>2.417451</td>\n      <td>2.409701</td>\n      <td>2.438906</td>\n      <td>2.425041</td>\n      <td>2.434209</td>\n      <td>2.409274</td>\n      <td>2.441106</td>\n      <td>2.438705</td>\n      <td>2.440953</td>\n      <td>2.398776</td>\n      <td>3_Bumps</td>\n      <td>0</td>\n      <td>1</td>\n    </tr>\n    <tr>\n      <th>2</th>\n      <td>2</td>\n      <td>2.441235</td>\n      <td>2.444651</td>\n      <td>2.445190</td>\n      <td>2.444618</td>\n      <td>2.441919</td>\n      <td>2.428489</td>\n      <td>2.417032</td>\n      <td>2.409266</td>\n      <td>2.438922</td>\n      <td>2.425105</td>\n      <td>2.434193</td>\n      <td>2.409314</td>\n      <td>2.441065</td>\n      <td>2.438769</td>\n      <td>2.440985</td>\n      <td>2.399743</td>\n      <td>3_Bumps</td>\n      <td>0</td>\n      <td>1</td>\n    </tr>\n    <tr>\n      <th>3</th>\n      <td>3</td>\n      <td>2.441202</td>\n      <td>2.444530</td>\n      <td>2.445126</td>\n      <td>2.444465</td>\n      <td>2.441887</td>\n      <td>2.428159</td>\n      <td>2.416887</td>\n      <td>2.409073</td>\n      <td>2.438938</td>\n      <td>2.425186</td>\n      <td>2.434225</td>\n      <td>2.409371</td>\n      <td>2.441033</td>\n      <td>2.438834</td>\n      <td>2.441017</td>\n      <td>2.400677</td>\n      <td>3_Bumps</td>\n      <td>0</td>\n      <td>1</td>\n    </tr>\n    <tr>\n      <th>4</th>\n      <td>4</td>\n      <td>2.441154</td>\n      <td>2.444377</td>\n      <td>2.444715</td>\n      <td>2.444167</td>\n      <td>2.441879</td>\n      <td>2.427804</td>\n      <td>2.416759</td>\n      <td>2.408815</td>\n      <td>2.438955</td>\n      <td>2.425250</td>\n      <td>2.434225</td>\n      <td>2.409451</td>\n      <td>2.441049</td>\n      <td>2.438898</td>\n      <td>2.441049</td>\n      <td>2.401580</td>\n      <td>3_Bumps</td>\n      <td>0</td>\n      <td>1</td>\n    </tr>\n    <tr>\n      <th>5</th>\n      <td>5</td>\n      <td>2.441146</td>\n      <td>2.444320</td>\n      <td>2.444264</td>\n      <td>2.443917</td>\n      <td>2.441847</td>\n      <td>2.427474</td>\n      <td>2.416630</td>\n      <td>2.408525</td>\n      <td>2.438971</td>\n      <td>2.425315</td>\n      <td>2.434225</td>\n      <td>2.409516</td>\n      <td>2.441033</td>\n      <td>2.438963</td>\n      <td>2.441082</td>\n      <td>2.402426</td>\n      <td>3_Bumps</td>\n      <td>0</td>\n      <td>1</td>\n    </tr>\n    <tr>\n      <th>6</th>\n      <td>6</td>\n      <td>2.441098</td>\n      <td>2.444199</td>\n      <td>2.443781</td>\n      <td>2.443595</td>\n      <td>2.441815</td>\n      <td>2.427144</td>\n      <td>2.416517</td>\n      <td>2.408267</td>\n      <td>2.438947</td>\n      <td>2.425379</td>\n      <td>2.434225</td>\n      <td>2.409580</td>\n      <td>2.441049</td>\n      <td>2.439027</td>\n      <td>2.441114</td>\n      <td>2.403360</td>\n      <td>3_Bumps</td>\n      <td>0</td>\n      <td>1</td>\n    </tr>\n    <tr>\n      <th>7</th>\n      <td>7</td>\n      <td>2.441065</td>\n      <td>2.444054</td>\n      <td>2.443273</td>\n      <td>2.443329</td>\n      <td>2.441782</td>\n      <td>2.426813</td>\n      <td>2.416404</td>\n      <td>2.408009</td>\n      <td>2.438963</td>\n      <td>2.425444</td>\n      <td>2.434225</td>\n      <td>2.409645</td>\n      <td>2.441025</td>\n      <td>2.439092</td>\n      <td>2.441146</td>\n      <td>2.404295</td>\n      <td>3_Bumps</td>\n      <td>0</td>\n      <td>1</td>\n    </tr>\n    <tr>\n      <th>8</th>\n      <td>8</td>\n      <td>2.441009</td>\n      <td>2.443926</td>\n      <td>2.442661</td>\n      <td>2.443007</td>\n      <td>2.441686</td>\n      <td>2.426467</td>\n      <td>2.416283</td>\n      <td>2.407751</td>\n      <td>2.438979</td>\n      <td>2.425508</td>\n      <td>2.434258</td>\n      <td>2.409709</td>\n      <td>2.441009</td>\n      <td>2.439156</td>\n      <td>2.441178</td>\n      <td>2.405165</td>\n      <td>3_Bumps</td>\n      <td>0</td>\n      <td>1</td>\n    </tr>\n    <tr>\n      <th>9</th>\n      <td>9</td>\n      <td>2.440912</td>\n      <td>2.443764</td>\n      <td>2.442040</td>\n      <td>2.442725</td>\n      <td>2.441646</td>\n      <td>2.426112</td>\n      <td>2.416154</td>\n      <td>2.407534</td>\n      <td>2.438995</td>\n      <td>2.425573</td>\n      <td>2.434258</td>\n      <td>2.409773</td>\n      <td>2.440969</td>\n      <td>2.439220</td>\n      <td>2.441210</td>\n      <td>2.406116</td>\n      <td>3_Bumps</td>\n      <td>0</td>\n      <td>1</td>\n    </tr>\n  </tbody>\n</table>\n</div>"
     },
     "metadata": {},
     "execution_count": 5
    }
   ],
   "source": [
    "Train_v=pd.read_csv(\"Train_V.csv\")\n",
    "Train_v.head(10)"
   ]
  },
  {
   "cell_type": "code",
   "execution_count": 6,
   "metadata": {},
   "outputs": [],
   "source": [
    "import matplotlib.pyplot as plt\n",
    "import spiking_neurons as spkn\n",
    "import time\n"
   ]
  },
  {
   "cell_type": "code",
   "execution_count": 7,
   "metadata": {},
   "outputs": [],
   "source": [
    "numTextures = 8\n",
    "numIte = 2\n",
    "numPass=8\n",
    "numTaxels = 16\n",
    "dt = 1"
   ]
  },
  {
   "cell_type": "code",
   "execution_count": 8,
   "metadata": {
    "tags": []
   },
   "outputs": [],
   "source": [
    "textures=['3_Bumps','6_Bumps','4_Ridges','6_Ridges','4_Waves','6_Waves','4_Blob','6_Blob']\n",
    "iterations=[1,2]\n",
    "Pass=[0,1,2,3,4,5,6,7]\n",
    "newfile = 'IzzTrain_V.txt'\n",
    "newf = open(newfile,'w')\n",
    "for i in textures:\n",
    "    for j in iterations:\n",
    "        for k in Pass:\n",
    "            tactiledata=Train_v.loc[(Train_v.Class==i)&(Train_v.iter_No==j)&(Train_v.Pass_No==k),:]\n",
    "            tactiledata=tactiledata.drop(columns=['Unnamed: 0'],axis=1)\n",
    "            tactiledata=tactiledata.drop(columns=['Class','iter_No','Pass_No'],axis=1)\n",
    "            tactiledata=tactiledata.to_numpy()\n",
    "            tactiledata= np.abs(tactiledata*50 - 2.44*50 - 2.5)+1\n",
    "            Im = [tactiledata[:,k] for k in range(numTaxels)]\n",
    "            nrn = [spkn.model.izhikevich(d=8) for k in range(numTaxels)]\n",
    "           \n",
    "            simulObj = spkn.simulation(dt=1,t0=0,tf=len(tactiledata),I=Im,neurons=nrn)\n",
    "            simulObj.run()\n",
    "            spikeMatrix = [np.zeros(len(tactiledata)) for k in range(numTaxels)]\n",
    "            for k in range(numTaxels):\n",
    "                spikeMatrix[k][simulObj.spikes[k]] = 1\n",
    "                # plt.figure(); plt.plot(spikeMatrix[k]); plt.show()\n",
    "\n",
    "            for z in range(len(tactiledata)):\n",
    "                for k in range(numTaxels):\n",
    "                    newf.write(str(spikeMatrix[k][z]) + ' ')\n",
    "                newf.write('\\n')\n",
    "newf.close()\n",
    "\n",
    "df = pd.read_csv('IzzTrain_V.txt', sep=\" \",header=None)\n",
    "df['Class']=Train_v['Class']\n",
    "df['Pass_No']=Train_v['Pass_No']\n",
    "df['iter_No']=Train_v['iter_No']\n",
    "df.to_csv('IzzTrain_V.csv')\n",
    "            \n",
    "            \n",
    "\n",
    "            \n",
    "\n",
    "\n"
   ]
  },
  {
   "cell_type": "code",
   "execution_count": 9,
   "metadata": {},
   "outputs": [
    {
     "output_type": "stream",
     "name": "stdout",
     "text": [
      "827\n"
     ]
    },
    {
     "output_type": "execute_result",
     "data": {
      "text/plain": [
       "[<matplotlib.lines.Line2D at 0x2c958cf0d30>]"
      ]
     },
     "metadata": {},
     "execution_count": 9
    },
    {
     "output_type": "display_data",
     "data": {
      "text/plain": "<Figure size 432x288 with 1 Axes>",
      "image/svg+xml": "<?xml version=\"1.0\" encoding=\"utf-8\" standalone=\"no\"?>\r\n<!DOCTYPE svg PUBLIC \"-//W3C//DTD SVG 1.1//EN\"\r\n  \"http://www.w3.org/Graphics/SVG/1.1/DTD/svg11.dtd\">\r\n<!-- Created with matplotlib (https://matplotlib.org/) -->\r\n<svg height=\"248.518125pt\" version=\"1.1\" viewBox=\"0 0 370.942187 248.518125\" width=\"370.942187pt\" xmlns=\"http://www.w3.org/2000/svg\" xmlns:xlink=\"http://www.w3.org/1999/xlink\">\r\n <defs>\r\n  <style type=\"text/css\">\r\n*{stroke-linecap:butt;stroke-linejoin:round;}\r\n  </style>\r\n </defs>\r\n <g id=\"figure_1\">\r\n  <g id=\"patch_1\">\r\n   <path d=\"M 0 248.518125 \r\nL 370.942187 248.518125 \r\nL 370.942187 0 \r\nL 0 0 \r\nz\r\n\" style=\"fill:none;\"/>\r\n  </g>\r\n  <g id=\"axes_1\">\r\n   <g id=\"patch_2\">\r\n    <path d=\"M 28.942188 224.64 \r\nL 363.742188 224.64 \r\nL 363.742188 7.2 \r\nL 28.942188 7.2 \r\nz\r\n\" style=\"fill:#ffffff;\"/>\r\n   </g>\r\n   <g id=\"matplotlib.axis_1\">\r\n    <g id=\"xtick_1\">\r\n     <g id=\"line2d_1\">\r\n      <defs>\r\n       <path d=\"M 0 0 \r\nL 0 3.5 \r\n\" id=\"mb26657f474\" style=\"stroke:#000000;stroke-width:0.8;\"/>\r\n      </defs>\r\n      <g>\r\n       <use style=\"stroke:#000000;stroke-width:0.8;\" x=\"88.377847\" xlink:href=\"#mb26657f474\" y=\"224.64\"/>\r\n      </g>\r\n     </g>\r\n     <g id=\"text_1\">\r\n      <!-- 70400 -->\r\n      <defs>\r\n       <path d=\"M 8.203125 72.90625 \r\nL 55.078125 72.90625 \r\nL 55.078125 68.703125 \r\nL 28.609375 0 \r\nL 18.3125 0 \r\nL 43.21875 64.59375 \r\nL 8.203125 64.59375 \r\nz\r\n\" id=\"DejaVuSans-55\"/>\r\n       <path d=\"M 31.78125 66.40625 \r\nQ 24.171875 66.40625 20.328125 58.90625 \r\nQ 16.5 51.421875 16.5 36.375 \r\nQ 16.5 21.390625 20.328125 13.890625 \r\nQ 24.171875 6.390625 31.78125 6.390625 \r\nQ 39.453125 6.390625 43.28125 13.890625 \r\nQ 47.125 21.390625 47.125 36.375 \r\nQ 47.125 51.421875 43.28125 58.90625 \r\nQ 39.453125 66.40625 31.78125 66.40625 \r\nz\r\nM 31.78125 74.21875 \r\nQ 44.046875 74.21875 50.515625 64.515625 \r\nQ 56.984375 54.828125 56.984375 36.375 \r\nQ 56.984375 17.96875 50.515625 8.265625 \r\nQ 44.046875 -1.421875 31.78125 -1.421875 \r\nQ 19.53125 -1.421875 13.0625 8.265625 \r\nQ 6.59375 17.96875 6.59375 36.375 \r\nQ 6.59375 54.828125 13.0625 64.515625 \r\nQ 19.53125 74.21875 31.78125 74.21875 \r\nz\r\n\" id=\"DejaVuSans-48\"/>\r\n       <path d=\"M 37.796875 64.3125 \r\nL 12.890625 25.390625 \r\nL 37.796875 25.390625 \r\nz\r\nM 35.203125 72.90625 \r\nL 47.609375 72.90625 \r\nL 47.609375 25.390625 \r\nL 58.015625 25.390625 \r\nL 58.015625 17.1875 \r\nL 47.609375 17.1875 \r\nL 47.609375 0 \r\nL 37.796875 0 \r\nL 37.796875 17.1875 \r\nL 4.890625 17.1875 \r\nL 4.890625 26.703125 \r\nz\r\n\" id=\"DejaVuSans-52\"/>\r\n      </defs>\r\n      <g transform=\"translate(72.471597 239.238437)scale(0.1 -0.1)\">\r\n       <use xlink:href=\"#DejaVuSans-55\"/>\r\n       <use x=\"63.623047\" xlink:href=\"#DejaVuSans-48\"/>\r\n       <use x=\"127.246094\" xlink:href=\"#DejaVuSans-52\"/>\r\n       <use x=\"190.869141\" xlink:href=\"#DejaVuSans-48\"/>\r\n       <use x=\"254.492188\" xlink:href=\"#DejaVuSans-48\"/>\r\n      </g>\r\n     </g>\r\n    </g>\r\n    <g id=\"xtick_2\">\r\n     <g id=\"line2d_2\">\r\n      <g>\r\n       <use style=\"stroke:#000000;stroke-width:0.8;\" x=\"162.073642\" xlink:href=\"#mb26657f474\" y=\"224.64\"/>\r\n      </g>\r\n     </g>\r\n     <g id=\"text_2\">\r\n      <!-- 70600 -->\r\n      <defs>\r\n       <path d=\"M 33.015625 40.375 \r\nQ 26.375 40.375 22.484375 35.828125 \r\nQ 18.609375 31.296875 18.609375 23.390625 \r\nQ 18.609375 15.53125 22.484375 10.953125 \r\nQ 26.375 6.390625 33.015625 6.390625 \r\nQ 39.65625 6.390625 43.53125 10.953125 \r\nQ 47.40625 15.53125 47.40625 23.390625 \r\nQ 47.40625 31.296875 43.53125 35.828125 \r\nQ 39.65625 40.375 33.015625 40.375 \r\nz\r\nM 52.59375 71.296875 \r\nL 52.59375 62.3125 \r\nQ 48.875 64.0625 45.09375 64.984375 \r\nQ 41.3125 65.921875 37.59375 65.921875 \r\nQ 27.828125 65.921875 22.671875 59.328125 \r\nQ 17.53125 52.734375 16.796875 39.40625 \r\nQ 19.671875 43.65625 24.015625 45.921875 \r\nQ 28.375 48.1875 33.59375 48.1875 \r\nQ 44.578125 48.1875 50.953125 41.515625 \r\nQ 57.328125 34.859375 57.328125 23.390625 \r\nQ 57.328125 12.15625 50.6875 5.359375 \r\nQ 44.046875 -1.421875 33.015625 -1.421875 \r\nQ 20.359375 -1.421875 13.671875 8.265625 \r\nQ 6.984375 17.96875 6.984375 36.375 \r\nQ 6.984375 53.65625 15.1875 63.9375 \r\nQ 23.390625 74.21875 37.203125 74.21875 \r\nQ 40.921875 74.21875 44.703125 73.484375 \r\nQ 48.484375 72.75 52.59375 71.296875 \r\nz\r\n\" id=\"DejaVuSans-54\"/>\r\n      </defs>\r\n      <g transform=\"translate(146.167392 239.238437)scale(0.1 -0.1)\">\r\n       <use xlink:href=\"#DejaVuSans-55\"/>\r\n       <use x=\"63.623047\" xlink:href=\"#DejaVuSans-48\"/>\r\n       <use x=\"127.246094\" xlink:href=\"#DejaVuSans-54\"/>\r\n       <use x=\"190.869141\" xlink:href=\"#DejaVuSans-48\"/>\r\n       <use x=\"254.492188\" xlink:href=\"#DejaVuSans-48\"/>\r\n      </g>\r\n     </g>\r\n    </g>\r\n    <g id=\"xtick_3\">\r\n     <g id=\"line2d_3\">\r\n      <g>\r\n       <use style=\"stroke:#000000;stroke-width:0.8;\" x=\"235.769438\" xlink:href=\"#mb26657f474\" y=\"224.64\"/>\r\n      </g>\r\n     </g>\r\n     <g id=\"text_3\">\r\n      <!-- 70800 -->\r\n      <defs>\r\n       <path d=\"M 31.78125 34.625 \r\nQ 24.75 34.625 20.71875 30.859375 \r\nQ 16.703125 27.09375 16.703125 20.515625 \r\nQ 16.703125 13.921875 20.71875 10.15625 \r\nQ 24.75 6.390625 31.78125 6.390625 \r\nQ 38.8125 6.390625 42.859375 10.171875 \r\nQ 46.921875 13.96875 46.921875 20.515625 \r\nQ 46.921875 27.09375 42.890625 30.859375 \r\nQ 38.875 34.625 31.78125 34.625 \r\nz\r\nM 21.921875 38.8125 \r\nQ 15.578125 40.375 12.03125 44.71875 \r\nQ 8.5 49.078125 8.5 55.328125 \r\nQ 8.5 64.0625 14.71875 69.140625 \r\nQ 20.953125 74.21875 31.78125 74.21875 \r\nQ 42.671875 74.21875 48.875 69.140625 \r\nQ 55.078125 64.0625 55.078125 55.328125 \r\nQ 55.078125 49.078125 51.53125 44.71875 \r\nQ 48 40.375 41.703125 38.8125 \r\nQ 48.828125 37.15625 52.796875 32.3125 \r\nQ 56.78125 27.484375 56.78125 20.515625 \r\nQ 56.78125 9.90625 50.3125 4.234375 \r\nQ 43.84375 -1.421875 31.78125 -1.421875 \r\nQ 19.734375 -1.421875 13.25 4.234375 \r\nQ 6.78125 9.90625 6.78125 20.515625 \r\nQ 6.78125 27.484375 10.78125 32.3125 \r\nQ 14.796875 37.15625 21.921875 38.8125 \r\nz\r\nM 18.3125 54.390625 \r\nQ 18.3125 48.734375 21.84375 45.5625 \r\nQ 25.390625 42.390625 31.78125 42.390625 \r\nQ 38.140625 42.390625 41.71875 45.5625 \r\nQ 45.3125 48.734375 45.3125 54.390625 \r\nQ 45.3125 60.0625 41.71875 63.234375 \r\nQ 38.140625 66.40625 31.78125 66.40625 \r\nQ 25.390625 66.40625 21.84375 63.234375 \r\nQ 18.3125 60.0625 18.3125 54.390625 \r\nz\r\n\" id=\"DejaVuSans-56\"/>\r\n      </defs>\r\n      <g transform=\"translate(219.863188 239.238437)scale(0.1 -0.1)\">\r\n       <use xlink:href=\"#DejaVuSans-55\"/>\r\n       <use x=\"63.623047\" xlink:href=\"#DejaVuSans-48\"/>\r\n       <use x=\"127.246094\" xlink:href=\"#DejaVuSans-56\"/>\r\n       <use x=\"190.869141\" xlink:href=\"#DejaVuSans-48\"/>\r\n       <use x=\"254.492188\" xlink:href=\"#DejaVuSans-48\"/>\r\n      </g>\r\n     </g>\r\n    </g>\r\n    <g id=\"xtick_4\">\r\n     <g id=\"line2d_4\">\r\n      <g>\r\n       <use style=\"stroke:#000000;stroke-width:0.8;\" x=\"309.465234\" xlink:href=\"#mb26657f474\" y=\"224.64\"/>\r\n      </g>\r\n     </g>\r\n     <g id=\"text_4\">\r\n      <!-- 71000 -->\r\n      <defs>\r\n       <path d=\"M 12.40625 8.296875 \r\nL 28.515625 8.296875 \r\nL 28.515625 63.921875 \r\nL 10.984375 60.40625 \r\nL 10.984375 69.390625 \r\nL 28.421875 72.90625 \r\nL 38.28125 72.90625 \r\nL 38.28125 8.296875 \r\nL 54.390625 8.296875 \r\nL 54.390625 0 \r\nL 12.40625 0 \r\nz\r\n\" id=\"DejaVuSans-49\"/>\r\n      </defs>\r\n      <g transform=\"translate(293.558984 239.238437)scale(0.1 -0.1)\">\r\n       <use xlink:href=\"#DejaVuSans-55\"/>\r\n       <use x=\"63.623047\" xlink:href=\"#DejaVuSans-49\"/>\r\n       <use x=\"127.246094\" xlink:href=\"#DejaVuSans-48\"/>\r\n       <use x=\"190.869141\" xlink:href=\"#DejaVuSans-48\"/>\r\n       <use x=\"254.492188\" xlink:href=\"#DejaVuSans-48\"/>\r\n      </g>\r\n     </g>\r\n    </g>\r\n   </g>\r\n   <g id=\"matplotlib.axis_2\">\r\n    <g id=\"ytick_1\">\r\n     <g id=\"line2d_5\">\r\n      <defs>\r\n       <path d=\"M 0 0 \r\nL -3.5 0 \r\n\" id=\"m3422f012db\" style=\"stroke:#000000;stroke-width:0.8;\"/>\r\n      </defs>\r\n      <g>\r\n       <use style=\"stroke:#000000;stroke-width:0.8;\" x=\"28.942188\" xlink:href=\"#m3422f012db\" y=\"195.027254\"/>\r\n      </g>\r\n     </g>\r\n     <g id=\"text_5\">\r\n      <!-- −2 -->\r\n      <defs>\r\n       <path d=\"M 10.59375 35.5 \r\nL 73.1875 35.5 \r\nL 73.1875 27.203125 \r\nL 10.59375 27.203125 \r\nz\r\n\" id=\"DejaVuSans-8722\"/>\r\n       <path d=\"M 19.1875 8.296875 \r\nL 53.609375 8.296875 \r\nL 53.609375 0 \r\nL 7.328125 0 \r\nL 7.328125 8.296875 \r\nQ 12.9375 14.109375 22.625 23.890625 \r\nQ 32.328125 33.6875 34.8125 36.53125 \r\nQ 39.546875 41.84375 41.421875 45.53125 \r\nQ 43.3125 49.21875 43.3125 52.78125 \r\nQ 43.3125 58.59375 39.234375 62.25 \r\nQ 35.15625 65.921875 28.609375 65.921875 \r\nQ 23.96875 65.921875 18.8125 64.3125 \r\nQ 13.671875 62.703125 7.8125 59.421875 \r\nL 7.8125 69.390625 \r\nQ 13.765625 71.78125 18.9375 73 \r\nQ 24.125 74.21875 28.421875 74.21875 \r\nQ 39.75 74.21875 46.484375 68.546875 \r\nQ 53.21875 62.890625 53.21875 53.421875 \r\nQ 53.21875 48.921875 51.53125 44.890625 \r\nQ 49.859375 40.875 45.40625 35.40625 \r\nQ 44.1875 33.984375 37.640625 27.21875 \r\nQ 31.109375 20.453125 19.1875 8.296875 \r\nz\r\n\" id=\"DejaVuSans-50\"/>\r\n      </defs>\r\n      <g transform=\"translate(7.2 198.826473)scale(0.1 -0.1)\">\r\n       <use xlink:href=\"#DejaVuSans-8722\"/>\r\n       <use x=\"83.789062\" xlink:href=\"#DejaVuSans-50\"/>\r\n      </g>\r\n     </g>\r\n    </g>\r\n    <g id=\"ytick_2\">\r\n     <g id=\"line2d_6\">\r\n      <g>\r\n       <use style=\"stroke:#000000;stroke-width:0.8;\" x=\"28.942188\" xlink:href=\"#m3422f012db\" y=\"155.477855\"/>\r\n      </g>\r\n     </g>\r\n     <g id=\"text_6\">\r\n      <!-- −1 -->\r\n      <g transform=\"translate(7.2 159.277074)scale(0.1 -0.1)\">\r\n       <use xlink:href=\"#DejaVuSans-8722\"/>\r\n       <use x=\"83.789062\" xlink:href=\"#DejaVuSans-49\"/>\r\n      </g>\r\n     </g>\r\n    </g>\r\n    <g id=\"ytick_3\">\r\n     <g id=\"line2d_7\">\r\n      <g>\r\n       <use style=\"stroke:#000000;stroke-width:0.8;\" x=\"28.942188\" xlink:href=\"#m3422f012db\" y=\"115.928456\"/>\r\n      </g>\r\n     </g>\r\n     <g id=\"text_7\">\r\n      <!-- 0 -->\r\n      <g transform=\"translate(15.579688 119.727675)scale(0.1 -0.1)\">\r\n       <use xlink:href=\"#DejaVuSans-48\"/>\r\n      </g>\r\n     </g>\r\n    </g>\r\n    <g id=\"ytick_4\">\r\n     <g id=\"line2d_8\">\r\n      <g>\r\n       <use style=\"stroke:#000000;stroke-width:0.8;\" x=\"28.942188\" xlink:href=\"#m3422f012db\" y=\"76.379057\"/>\r\n      </g>\r\n     </g>\r\n     <g id=\"text_8\">\r\n      <!-- 1 -->\r\n      <g transform=\"translate(15.579688 80.178276)scale(0.1 -0.1)\">\r\n       <use xlink:href=\"#DejaVuSans-49\"/>\r\n      </g>\r\n     </g>\r\n    </g>\r\n    <g id=\"ytick_5\">\r\n     <g id=\"line2d_9\">\r\n      <g>\r\n       <use style=\"stroke:#000000;stroke-width:0.8;\" x=\"28.942188\" xlink:href=\"#m3422f012db\" y=\"36.829658\"/>\r\n      </g>\r\n     </g>\r\n     <g id=\"text_9\">\r\n      <!-- 2 -->\r\n      <g transform=\"translate(15.579688 40.628877)scale(0.1 -0.1)\">\r\n       <use xlink:href=\"#DejaVuSans-50\"/>\r\n      </g>\r\n     </g>\r\n    </g>\r\n   </g>\r\n   <g id=\"line2d_10\">\r\n    <path clip-path=\"url(#p870d39cd4f)\" d=\"M 44.160369 115.928456 \r\nL 48.582117 115.928456 \r\nL 48.950596 76.379057 \r\nL 49.319075 115.928456 \r\nL 109.01267 115.928456 \r\nL 109.381149 76.379057 \r\nL 109.749628 115.928456 \r\nL 144.386652 115.928456 \r\nL 144.75513 76.379057 \r\nL 145.123609 115.928456 \r\nL 180.129112 115.928456 \r\nL 180.497591 76.379057 \r\nL 180.86607 115.928456 \r\nL 222.872674 115.928456 \r\nL 223.241153 76.379057 \r\nL 223.609632 115.928456 \r\nL 271.880378 115.928456 \r\nL 272.248857 76.379057 \r\nL 272.617336 115.928456 \r\nL 327.520704 115.928456 \r\nL 327.889183 76.379057 \r\nL 328.257662 115.928456 \r\nL 348.524006 115.928456 \r\nL 348.524006 115.928456 \r\n\" style=\"fill:none;stroke:#1f77b4;stroke-linecap:square;stroke-width:1.5;\"/>\r\n   </g>\r\n   <g id=\"line2d_11\">\r\n    <path clip-path=\"url(#p870d39cd4f)\" d=\"M 44.160369 115.928456 \r\nL 153.598626 115.928456 \r\nL 153.967105 107.139166 \r\nL 155.441021 57.143994 \r\nL 156.177979 37.86657 \r\nL 156.914937 24.345322 \r\nL 157.283416 20.135555 \r\nL 157.651895 17.686631 \r\nL 158.020374 17.083636 \r\nL 158.388853 18.337901 \r\nL 158.757332 21.395465 \r\nL 159.125811 26.245842 \r\nL 159.862769 40.811744 \r\nL 160.599727 61.040337 \r\nL 161.705164 98.419469 \r\nL 163.916037 175.211272 \r\nL 164.652995 194.433064 \r\nL 165.389953 207.743909 \r\nL 165.758432 211.898293 \r\nL 166.126911 214.249437 \r\nL 166.49539 214.756364 \r\nL 166.863869 213.417333 \r\nL 167.232348 210.24652 \r\nL 167.600827 205.303505 \r\nL 168.337785 190.57187 \r\nL 169.074743 170.298772 \r\nL 170.18018 132.723654 \r\nL 172.391054 56.067187 \r\nL 173.128012 37.04773 \r\nL 173.86497 23.846548 \r\nL 174.233449 19.786841 \r\nL 174.601928 17.543832 \r\nL 174.970407 17.125211 \r\nL 175.338886 18.563069 \r\nL 175.707365 21.798649 \r\nL 176.075844 26.820858 \r\nL 176.812802 41.762351 \r\nL 177.54976 62.164956 \r\nL 178.655197 99.745798 \r\nL 180.497591 165.095956 \r\nL 181.234549 186.425828 \r\nL 181.971507 202.571963 \r\nL 182.708465 212.213198 \r\nL 183.076944 214.382422 \r\nL 183.445423 214.706337 \r\nL 183.813902 213.183832 \r\nL 184.182381 209.833933 \r\nL 184.55086 204.719583 \r\nL 185.287818 189.682266 \r\nL 186.024776 169.082253 \r\nL 187.130213 131.395679 \r\nL 189.341087 55.001474 \r\nL 190.078045 36.243508 \r\nL 190.815003 23.364839 \r\nL 191.183482 19.481538 \r\nL 191.551961 17.419266 \r\nL 191.92044 17.185097 \r\nL 192.288919 18.80628 \r\nL 192.657398 22.219279 \r\nL 193.025877 27.412388 \r\nL 193.762835 42.659336 \r\nL 194.499793 63.299538 \r\nL 195.973709 114.582477 \r\nL 197.447624 166.259161 \r\nL 198.184582 187.36304 \r\nL 198.92154 203.212364 \r\nL 199.290019 208.708621 \r\nL 199.658498 212.510259 \r\nL 200.026977 214.49716 \r\nL 200.395456 214.631989 \r\nL 200.763935 212.932307 \r\nL 201.132414 209.403943 \r\nL 201.500893 204.119207 \r\nL 202.237851 188.778994 \r\nL 202.974809 167.942392 \r\nL 204.080246 130.064837 \r\nL 205.922641 65.06402 \r\nL 206.659599 43.994693 \r\nL 207.396557 28.354427 \r\nL 207.765036 22.900284 \r\nL 208.133515 19.194108 \r\nL 208.501994 17.312957 \r\nL 208.870473 17.263282 \r\nL 209.238952 19.067491 \r\nL 209.607431 22.691684 \r\nL 209.97591 28.020322 \r\nL 210.712868 43.569899 \r\nL 211.449826 64.443874 \r\nL 212.923742 115.928456 \r\nL 214.397657 167.413039 \r\nL 215.134615 188.287013 \r\nL 215.871573 203.83659 \r\nL 216.240052 209.165229 \r\nL 216.608531 212.789421 \r\nL 216.97701 214.59363 \r\nL 217.345489 214.543956 \r\nL 217.713968 212.662805 \r\nL 218.082447 208.956629 \r\nL 218.819405 196.402858 \r\nL 219.556363 177.90986 \r\nL 220.6618 142.018508 \r\nL 223.241153 52.904117 \r\nL 223.978111 34.620557 \r\nL 224.715069 22.45297 \r\nL 225.083548 18.924606 \r\nL 225.452027 17.224924 \r\nL 225.820506 17.359753 \r\nL 226.188985 19.346653 \r\nL 226.557464 23.148292 \r\nL 226.925943 28.644548 \r\nL 227.662901 44.493873 \r\nL 228.399859 65.597751 \r\nL 229.873775 117.274436 \r\nL 231.34769 168.557375 \r\nL 232.084648 189.197576 \r\nL 232.821606 204.444525 \r\nL 233.190085 209.637634 \r\nL 233.558564 213.050632 \r\nL 233.927043 214.671816 \r\nL 234.295522 214.437646 \r\nL 234.664001 212.375375 \r\nL 235.03248 208.492074 \r\nL 235.769438 195.613404 \r\nL 236.506396 176.855438 \r\nL 237.611833 140.717815 \r\nL 239.822707 62.77466 \r\nL 240.559665 42.174646 \r\nL 241.296623 27.137329 \r\nL 241.665102 22.022979 \r\nL 242.033581 18.673081 \r\nL 242.40206 17.150576 \r\nL 242.770539 17.474491 \r\nL 243.139018 19.643714 \r\nL 243.507497 23.622094 \r\nL 244.244455 36.612861 \r\nL 244.981413 55.573929 \r\nL 246.08685 91.841388 \r\nL 246.823808 115.928456 \r\nL 348.524006 115.928456 \r\nL 348.524006 115.928456 \r\n\" style=\"fill:none;stroke:#ff7f0e;stroke-linecap:square;stroke-width:1.5;\"/>\r\n   </g>\r\n   <g id=\"patch_3\">\r\n    <path d=\"M 28.942188 224.64 \r\nL 28.942188 7.2 \r\n\" style=\"fill:none;stroke:#000000;stroke-linecap:square;stroke-linejoin:miter;stroke-width:0.8;\"/>\r\n   </g>\r\n   <g id=\"patch_4\">\r\n    <path d=\"M 363.742188 224.64 \r\nL 363.742188 7.2 \r\n\" style=\"fill:none;stroke:#000000;stroke-linecap:square;stroke-linejoin:miter;stroke-width:0.8;\"/>\r\n   </g>\r\n   <g id=\"patch_5\">\r\n    <path d=\"M 28.942188 224.64 \r\nL 363.742188 224.64 \r\n\" style=\"fill:none;stroke:#000000;stroke-linecap:square;stroke-linejoin:miter;stroke-width:0.8;\"/>\r\n   </g>\r\n   <g id=\"patch_6\">\r\n    <path d=\"M 28.942188 7.2 \r\nL 363.742188 7.2 \r\n\" style=\"fill:none;stroke:#000000;stroke-linecap:square;stroke-linejoin:miter;stroke-width:0.8;\"/>\r\n   </g>\r\n  </g>\r\n </g>\r\n <defs>\r\n  <clipPath id=\"p870d39cd4f\">\r\n   <rect height=\"217.44\" width=\"334.8\" x=\"28.942188\" y=\"7.2\"/>\r\n  </clipPath>\r\n </defs>\r\n</svg>\r\n",
      "image/png": "[encoded data removed]"
     },
     "metadata": {
      "needs_background": "light"
     }
    }
   ],
   "source": [
    "clas='6_Waves'\n",
    "iter_no=1\n",
    "pass_no=6\n",
    "sens_no=7\n",
    "izz=pd.read_csv('IzzTrain_V.csv')\n",
    "tactiledata=izz.loc[(izz.Class==clas)&(izz.iter_No==iter_no)&(izz.Pass_No==pass_no),:]\n",
    "tactiledata=tactiledata[str(sens_no)]\n",
    "\n",
    "zz=pd.read_csv('Train_Z.csv')\n",
    "z=zz.loc[(zz.Class==clas)&(zz.iter_No==iter_no)&(zz.Pass_No==pass_no),:]\n",
    "z=z['z_'+str(sens_no)]\n",
    "print(len(z))\n",
    "# print(len(tactiledata))\n",
    "plt.plot(tactiledata)\n",
    "plt.plot(z)"
   ]
  },
  {
   "cell_type": "code",
   "execution_count": null,
   "metadata": {},
   "outputs": [],
   "source": []
  },
  {
   "cell_type": "code",
   "execution_count": null,
   "metadata": {},
   "outputs": [],
   "source": []
  },
  {
   "cell_type": "code",
   "execution_count": null,
   "metadata": {},
   "outputs": [],
   "source": []
  },
  {
   "cell_type": "code",
   "execution_count": null,
   "metadata": {},
   "outputs": [],
   "source": []
  },
  {
   "cell_type": "code",
   "execution_count": null,
   "metadata": {},
   "outputs": [],
   "source": []
  },
  {
   "cell_type": "code",
   "execution_count": null,
   "metadata": {},
   "outputs": [],
   "source": []
  },
  {
   "cell_type": "code",
   "execution_count": null,
   "metadata": {},
   "outputs": [],
   "source": []
  }
 ]
}